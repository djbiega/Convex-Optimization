{
  "nbformat": 4,
  "nbformat_minor": 0,
  "metadata": {
    "colab": {
      "name": "AAE561_HW1_Biega.ipynb",
      "version": "0.3.2",
      "provenance": [],
      "collapsed_sections": [],
      "toc_visible": true,
      "include_colab_link": true
    },
    "kernelspec": {
      "name": "python3",
      "display_name": "Python 3"
    }
  },
  "cells": [
    {
      "cell_type": "markdown",
      "metadata": {
        "id": "view-in-github",
        "colab_type": "text"
      },
      "source": [
        "<a href=\"https://colab.research.google.com/github/djbiega/Convex-Optimization/blob/Formatting-Updates/AAE561_HW1_Biega.ipynb\" target=\"_parent\"><img src=\"https://colab.research.google.com/assets/colab-badge.svg\" alt=\"Open In Colab\"/></a>"
      ]
    },
    {
      "metadata": {
        "id": "W1GHQe0SVPuy",
        "colab_type": "text"
      },
      "cell_type": "markdown",
      "source": [
        "# Derek Biega AAE561 Homework 1"
      ]
    },
    {
      "metadata": {
        "id": "6RToRVHgVE_B",
        "colab_type": "code",
        "colab": {}
      },
      "cell_type": "code",
      "source": [
        "import numpy as np\n",
        "import matplotlib.pyplot as plt\n",
        "from mpl_toolkits.mplot3d import Axes3D\n",
        "import math\n",
        "from numpy.linalg import inv\n",
        "from scipy.optimize import minimize\n",
        "from timeit import Timer"
      ],
      "execution_count": 0,
      "outputs": []
    },
    {
      "metadata": {
        "id": "GJwZwVJ8Ikej",
        "colab_type": "text"
      },
      "cell_type": "markdown",
      "source": [
        "### Define the given function, partial derivatives, inverse hessian matrix, and a magnitude function"
      ]
    },
    {
      "metadata": {
        "id": "iyhIyL9fH9XA",
        "colab_type": "code",
        "colab": {}
      },
      "cell_type": "code",
      "source": [
        "# Note: a lambda function is an anonymous function useful for single-line expressions\n",
        "f = lambda x: 100*np.square(x[1]-np.square(x[0])) + np.square((1-x[0]))\n",
        "dfx1 = lambda x: -400*x[0]*x[1]+400*np.power(x[0],3)+2*x[0]-2\n",
        "dfx2 = lambda x: 200*(x[1]-np.square(x[0]))\n",
        "dfx = lambda x: np.array([dfx1(x), dfx2(x)], dtype='float32')\n",
        "dfx11 = lambda x: -400*(x[1])+1200*np.square(x[0])+2\n",
        "dfx12 = lambda x: -400*x[0]\n",
        "dfx21 = lambda x: -400*x[0]\n",
        "dfx22 = lambda x: 200\n",
        "hessian = lambda x: np.array([[dfx11(x), dfx12(x)], [dfx21(x), dfx22(x)]], dtype='float32')\n",
        "inv_hessian = lambda x: inv(hessian(x))\n",
        "mag = lambda x: math.sqrt(sum(i**2 for i in x))"
      ],
      "execution_count": 0,
      "outputs": []
    },
    {
      "metadata": {
        "id": "iiYAx0CdWTaT",
        "colab_type": "code",
        "colab": {}
      },
      "cell_type": "code",
      "source": [
        "# Define the initial point, step size, alpha/beta constants, and initial gradient magnitude\n",
        "x0 = np.array([[-1.1], [1.1]])\n",
        "t0 = 1\n",
        "alpha = .15 \n",
        "beta = .7\n",
        "count = 1\n",
        "magnitude = mag(dfx(x0))"
      ],
      "execution_count": 0,
      "outputs": []
    },
    {
      "metadata": {
        "id": "yl2mwvmCy6Ki",
        "colab_type": "text"
      },
      "cell_type": "markdown",
      "source": [
        "## Backtracking line search algorithm"
      ]
    },
    {
      "metadata": {
        "id": "riHbaFFlLEEi",
        "colab_type": "text"
      },
      "cell_type": "markdown",
      "source": [
        "<par>Note: the 'Solution' output is: f(x+t$\\Delta$x) - f(x) - $\\alpha$t$\\nabla$f(x)<sup>T</sup>$\\Delta$x where $\\Delta$x is dependent on the algorithm. (e.g. $\\Delta$x=-$\\nabla$f(x) for gradient descent)"
      ]
    },
    {
      "metadata": {
        "id": "2zUUK2hNHaYC",
        "colab_type": "code",
        "colab": {}
      },
      "cell_type": "code",
      "source": [
        "def backtrack(x, t, alpha, beta, deltaX):\n",
        "  count = 1\n",
        "  while f(x+t*deltaX) > f(x) + alpha*t*np.dot(np.transpose(dfx(x)), deltaX):\n",
        "    t *= beta\n",
        "    ############## Uncomment the code below to see each iteration ##########\n",
        "    # print('''\n",
        "    # ----- iteration {} -----\n",
        "    # '''.format(count))\n",
        "    # print('Solution: ', f(x+t*deltaX) - f(x) + alpha*t*np.dot(dfx(x), deltaX))\n",
        "    ########################################################################\n",
        "    count+=1\n",
        "  return t"
      ],
      "execution_count": 0,
      "outputs": []
    },
    {
      "metadata": {
        "id": "lLkLHdVdUlPk",
        "colab_type": "text"
      },
      "cell_type": "markdown",
      "source": [
        "##  Gradient descent algorithm"
      ]
    },
    {
      "metadata": {
        "id": "8A94HbBeaJwz",
        "colab_type": "code",
        "outputId": "d3d0b0ed-1f1f-4ea3-b56d-2db09f20e3cf",
        "colab": {
          "base_uri": "https://localhost:8080/",
          "height": 35
        }
      },
      "cell_type": "code",
      "source": [
        "# Run the backtracking line search algorithm to find the optimal step size\n",
        "deltaX = -dfx(x0)\n",
        "t = backtrack(x0, t0, alpha, beta, deltaX)\n",
        "print('Final step size: ', t)"
      ],
      "execution_count": 5,
      "outputs": [
        {
          "output_type": "stream",
          "text": [
            "Final step size:  0.001139889518537313\n"
          ],
          "name": "stdout"
        }
      ]
    },
    {
      "metadata": {
        "id": "3uF52mnpLEsJ",
        "colab_type": "code",
        "colab": {}
      },
      "cell_type": "code",
      "source": [
        "def grad_descent(x, t, count, magnitude, deltaX):\n",
        "  xvalues=[]\n",
        "  gradvalues=[]\n",
        "  fvalues=[]\n",
        "  temp = np.zeros((2,1))\n",
        "  \n",
        "  while magnitude > .000005:\n",
        "    \n",
        "    # Store all values for each iteration\n",
        "    xvalues.append(x)\n",
        "    gradvalues.append(np.array([dfx1(x), dfx2(x)]))\n",
        "    fvalues.append(f(x))\n",
        "    \n",
        "    # Gradient Descent algorithm\n",
        "    deltaX = -dfx(x)\n",
        "    temp=x+t*deltaX\n",
        "    x = temp\n",
        "    \n",
        "    # Update the magnitude for the exit criterion\n",
        "    magnitude = mag(deltaX)  \n",
        "    \n",
        "    # Track the number of iterations\n",
        "    count+=1\n",
        "    \n",
        "  return xvalues, gradvalues, fvalues, count"
      ],
      "execution_count": 0,
      "outputs": []
    },
    {
      "metadata": {
        "id": "RdJM16M0YRJT",
        "colab_type": "code",
        "colab": {}
      },
      "cell_type": "code",
      "source": [
        "# Inputs/Outputs for the gradient descent algorithm\n",
        "xvalues, gradvalues, fvalues, iterations = grad_descent(x0, t, count, magnitude, deltaX)"
      ],
      "execution_count": 0,
      "outputs": []
    },
    {
      "metadata": {
        "id": "D0XiEC56_sRM",
        "colab_type": "text"
      },
      "cell_type": "markdown",
      "source": [
        "### The final value of all outputs.\n",
        "<par>xvalues := the set of variables being tested in each iteration, x<sub>1</sub> and x<sub>2</sub>   \n",
        "  gradvalues := the set of partial derivatives in each iteration, $\\frac{\\partial f}{\\partial x_1}$, $\\frac{\\partial f}{\\partial x_2}$   \n",
        "  fvalues := the result of the objective function with inputs x<sub>1</sub> and x<sub>2</sub> , f(x<sub>1</sub>,x<sub>2</sub>)\n",
        "  \n",
        "  final_grad_mag := The magnitude of the final gradient values, ||$\\nabla$f(x)||\n",
        "  \n",
        "  "
      ]
    },
    {
      "metadata": {
        "id": "R7vFevWlM-XA",
        "colab_type": "code",
        "outputId": "b583377c-1acb-4c24-fcf8-2aa7f4903987",
        "colab": {
          "base_uri": "https://localhost:8080/",
          "height": 308
        }
      },
      "cell_type": "code",
      "source": [
        "final_value = print('Final set of x values: \\n', xvalues[-1])\n",
        "final_grad = print('\\nFinal gradient values: \\n', gradvalues[-1])\n",
        "final_f = print('\\nFinal value of the object function with optimized inputs: \\n', fvalues[-1])\n",
        "final_grad_mag = print('\\nFinal magnitude of the gradient with optimized inputs: \\n', mag(dfx(xvalues[-1])))\n",
        "total_iterations = print('\\nTotal iterations: \\n', iterations)"
      ],
      "execution_count": 8,
      "outputs": [
        {
          "output_type": "stream",
          "text": [
            "Final set of x values: \n",
            " [[0.99999441]\n",
            " [0.9999888 ]]\n",
            "\n",
            "Final gradient values: \n",
            " [[-2.23151529e-06]\n",
            " [-4.47193578e-06]]\n",
            "\n",
            "Final value of the object function with optimized inputs: \n",
            " [3.1272034e-11]\n",
            "\n",
            "Final magnitude of the gradient with optimized inputs: \n",
            " 4.997786556707155e-06\n",
            "\n",
            "Total iterations: \n",
            " 24636\n"
          ],
          "name": "stdout"
        }
      ]
    },
    {
      "metadata": {
        "id": "iiCTuuhaNr7h",
        "colab_type": "text"
      },
      "cell_type": "markdown",
      "source": [
        "### 3D plot of Gradient Descent"
      ]
    },
    {
      "metadata": {
        "id": "EVFvEwE-NBgG",
        "colab_type": "code",
        "outputId": "75480b8f-e8a0-4580-e9aa-ba07fc276685",
        "colab": {
          "base_uri": "https://localhost:8080/",
          "height": 348
        }
      },
      "cell_type": "code",
      "source": [
        "x = np.array([i[0] for i in xvalues])\n",
        "y = np.array([i[1] for i in xvalues])\n",
        "z = np.array(fvalues)\n",
        "fig = plt.figure()\n",
        "ax = fig.gca(projection='3d')\n",
        "ax.scatter(x, y, z, label='Gradient Descent')\n",
        "ax.legend()"
      ],
      "execution_count": 9,
      "outputs": [
        {
          "output_type": "execute_result",
          "data": {
            "text/plain": [
              "<matplotlib.legend.Legend at 0x7fc8cc973198>"
            ]
          },
          "metadata": {
            "tags": []
          },
          "execution_count": 9
        },
        {
          "output_type": "display_data",
          "data": {
            "image/png": "[encoded data removed]",
            "text/plain": [
              "<Figure size 576x396 with 1 Axes>"
            ]
          },
          "metadata": {
            "tags": []
          }
        }
      ]
    },
    {
      "metadata": {
        "id": "9zVn9Au4S3WW",
        "colab_type": "text"
      },
      "cell_type": "markdown",
      "source": [
        "## Newton's Method"
      ]
    },
    {
      "metadata": {
        "id": "aNBusqr1BHKv",
        "colab_type": "code",
        "colab": {}
      },
      "cell_type": "code",
      "source": [
        "# Define the initial point, step size, alpha/beta constants, and initial gradient magnitude\n",
        "x0 =np.array([[-1.1], [1.1]])\n",
        "t0 = 1\n",
        "alpha = .15 \n",
        "beta = .7\n",
        "count = 1\n",
        "magnitude = mag(dfx(x0))"
      ],
      "execution_count": 0,
      "outputs": []
    },
    {
      "metadata": {
        "id": "5XJej6l_Wkst",
        "colab_type": "code",
        "colab": {}
      },
      "cell_type": "code",
      "source": [
        "def newton(x, t, count, magnitude):\n",
        "  xvalues=[]\n",
        "  gradvalues=[]\n",
        "  fvalues=[]\n",
        "  temp = np.zeros((2,1))\n",
        "  \n",
        "  while magnitude > .000005:\n",
        "    \n",
        "    # Store all values for each iteration\n",
        "    xvalues.append(x)\n",
        "    gradvalues.append(dfx(x))\n",
        "    fvalues.append(f(x))      \n",
        "    \n",
        "    # Newton method algorithm\n",
        "    deltaX = np.array(np.dot(-inv_hessian(x), dfx(x)))\n",
        "    temp = np.array(x+t*deltaX)\n",
        "    x = temp\n",
        "    magnitude = mag(deltaX)  \n",
        "    \n",
        "    # Track the number of iterations\n",
        "    count+=1\n",
        "    \n",
        "  return xvalues, gradvalues, fvalues, count"
      ],
      "execution_count": 0,
      "outputs": []
    },
    {
      "metadata": {
        "id": "IH6uksM2Wj-Y",
        "colab_type": "code",
        "colab": {}
      },
      "cell_type": "code",
      "source": [
        "xvalues, gradvalues, fvalues, iterations = newton(x0, t0, count, magnitude)"
      ],
      "execution_count": 0,
      "outputs": []
    },
    {
      "metadata": {
        "id": "2oI2AcZyw4oq",
        "colab_type": "text"
      },
      "cell_type": "markdown",
      "source": [
        "### The final value of all outputs"
      ]
    },
    {
      "metadata": {
        "id": "RdQx9qX-ag8U",
        "colab_type": "code",
        "outputId": "11f92390-8531-41cf-b13a-dc09c9889700",
        "colab": {
          "base_uri": "https://localhost:8080/",
          "height": 308
        }
      },
      "cell_type": "code",
      "source": [
        "final_value = print('Final set of x values: \\n', xvalues[-1])\n",
        "final_grad = print('\\nFinal gradient values: \\n', gradvalues[-1])\n",
        "final_f = print('\\nFinal value of the object function with optimized inputs: \\n', fvalues[-1])\n",
        "final_grad_mag = print('\\nFinal magnitude of the gradient with optimized inputs: \\n', mag(dfx(xvalues[-1])))\n",
        "total_iterations = print('\\nTotal iterations: \\n', iterations)"
      ],
      "execution_count": 13,
      "outputs": [
        {
          "output_type": "stream",
          "text": [
            "Final set of x values: \n",
            " [[0.99999995]\n",
            " [0.99999987]]\n",
            "\n",
            "Final gradient values: \n",
            " [[ 9.1299416e-06]\n",
            " [-4.6193604e-06]]\n",
            "\n",
            "Final value of the object function with optimized inputs: \n",
            " [5.63044182e-14]\n",
            "\n",
            "Final magnitude of the gradient with optimized inputs: \n",
            " 1.023202436743073e-05\n",
            "\n",
            "Total iterations: \n",
            " 9\n"
          ],
          "name": "stdout"
        }
      ]
    },
    {
      "metadata": {
        "id": "G80brysj_h65",
        "colab_type": "text"
      },
      "cell_type": "markdown",
      "source": [
        "### 3D plot of Newton Method"
      ]
    },
    {
      "metadata": {
        "id": "G1P3eBdkiVoc",
        "colab_type": "code",
        "outputId": "f6760c31-151a-4b6b-9e1c-0aec8eb9806c",
        "colab": {
          "base_uri": "https://localhost:8080/",
          "height": 348
        }
      },
      "cell_type": "code",
      "source": [
        "x = np.array([i[0] for i in xvalues])\n",
        "y = np.array([i[1] for i in xvalues])\n",
        "z = np.array(fvalues)\n",
        "fig = plt.figure()\n",
        "ax = fig.gca(projection='3d')\n",
        "ax.scatter(x, y, z, label='Newton Method')\n",
        "ax.legend()"
      ],
      "execution_count": 14,
      "outputs": [
        {
          "output_type": "execute_result",
          "data": {
            "text/plain": [
              "<matplotlib.legend.Legend at 0x7fc8c9c13860>"
            ]
          },
          "metadata": {
            "tags": []
          },
          "execution_count": 14
        },
        {
          "output_type": "display_data",
          "data": {
            "image/png": "[encoded data removed]",
            "text/plain": [
              "<Figure size 576x396 with 1 Axes>"
            ]
          },
          "metadata": {
            "tags": []
          }
        }
      ]
    },
    {
      "metadata": {
        "id": "Bb5RKEXTheoW",
        "colab_type": "text"
      },
      "cell_type": "markdown",
      "source": [
        "## Damped Newton's Method"
      ]
    },
    {
      "metadata": {
        "id": "2fescmCbBQ2Q",
        "colab_type": "code",
        "colab": {}
      },
      "cell_type": "code",
      "source": [
        "# Define the initial point, step size, alpha/beta constants, and initial gradient magnitude\n",
        "x0, t0, alpha, beta, count = np.array([[-1.1], [1.1]]), 1, .15, .7, 1\n",
        "magnitude = mag(np.array([dfx1(x0), dfx2(x0)]))"
      ],
      "execution_count": 0,
      "outputs": []
    },
    {
      "metadata": {
        "id": "-Z8rl_P8XYO6",
        "colab_type": "text"
      },
      "cell_type": "markdown",
      "source": [
        "Exact line search: t = $\\frac{\\nabla f(x_k)^T\\nabla f(x_k)}{\\nabla f(x_k)^TH_k\\nabla f(x_k)}$\n",
        "\n"
      ]
    },
    {
      "metadata": {
        "id": "6PcktK-vIlqf",
        "colab_type": "code",
        "outputId": "de483ed1-0f77-4dad-e570-1006d70282ad",
        "colab": {
          "base_uri": "https://localhost:8080/",
          "height": 35
        }
      },
      "cell_type": "code",
      "source": [
        "# Use Cauchy's step size (exact line search algorithm) \n",
        "t = np.dot(np.transpose(dfx(x0)),dfx(x0))/np.dot(np.dot(np.transpose(dfx(x0)),hessian(x0)),dfx(x0))\n",
        "print('Final step size: ', t)"
      ],
      "execution_count": 16,
      "outputs": [
        {
          "output_type": "stream",
          "text": [
            "Final step size:  [[0.00082914]]\n"
          ],
          "name": "stdout"
        }
      ]
    },
    {
      "metadata": {
        "id": "X2a-e0X1_wjW",
        "colab_type": "code",
        "colab": {}
      },
      "cell_type": "code",
      "source": [
        "def damped_newton(x, t, count, magnitude):\n",
        "  \n",
        "  xvalues=[]\n",
        "  gradvalues=[]\n",
        "  fvalues=[]\n",
        "  temp = np.zeros((2,1))\n",
        "  \n",
        "  while magnitude > .000005:\n",
        "    \n",
        "    # Store all values for each iteration\n",
        "    xvalues.append(x)\n",
        "    gradvalues.append(dfx(x))\n",
        "    fvalues.append(f(x))   \n",
        "    \n",
        "    # Damped newton method algorithm    \n",
        "    deltaX = np.array(np.dot(-inv_hessian(x), dfx(x)))\n",
        "    temp = np.array(x+t*deltaX)\n",
        "    x = temp\n",
        "    magnitude = mag(deltaX)   \n",
        "    \n",
        "    # Track the number of iterations\n",
        "    count+=1\n",
        "    \n",
        "  return xvalues, gradvalues, fvalues, count"
      ],
      "execution_count": 0,
      "outputs": []
    },
    {
      "metadata": {
        "id": "mCMaRUqb_5bM",
        "colab_type": "code",
        "colab": {}
      },
      "cell_type": "code",
      "source": [
        "xvalues, gradvalues, fvalues, iterations = damped_newton(x0, t, count, magnitude)\n"
      ],
      "execution_count": 0,
      "outputs": []
    },
    {
      "metadata": {
        "id": "EmNJvRKXAAtT",
        "colab_type": "text"
      },
      "cell_type": "markdown",
      "source": [
        "### The final value of all outputs"
      ]
    },
    {
      "metadata": {
        "id": "JB8T5XMKAEiK",
        "colab_type": "code",
        "outputId": "777efc6f-35ee-4516-d490-e732900be70d",
        "colab": {
          "base_uri": "https://localhost:8080/",
          "height": 308
        }
      },
      "cell_type": "code",
      "source": [
        "final_value = print('Final set of x values: \\n', xvalues[-1])\n",
        "final_grad = print('\\nFinal gradient values: \\n', gradvalues[-1])\n",
        "final_f = print('\\nFinal value of the object function with optimized inputs: \\n', fvalues[-1])\n",
        "final_grad_mag = print('\\nFinal magnitude of the gradient with optimized inputs: \\n', mag(dfx(xvalues[-1])))\n",
        "total_iterations = print('\\nTotal iterations: \\n', iterations)"
      ],
      "execution_count": 19,
      "outputs": [
        {
          "output_type": "stream",
          "text": [
            "Final set of x values: \n",
            " [[0.99999777]\n",
            " [0.99999553]]\n",
            "\n",
            "Final gradient values: \n",
            " [[-2.0424147e-06]\n",
            " [-1.2111697e-06]]\n",
            "\n",
            "Final value of the object function with optimized inputs: \n",
            " [4.98716263e-12]\n",
            "\n",
            "Final magnitude of the gradient with optimized inputs: \n",
            " 2.374529412023341e-06\n",
            "\n",
            "Total iterations: \n",
            " 20443\n"
          ],
          "name": "stdout"
        }
      ]
    },
    {
      "metadata": {
        "id": "aReeLKdUAIQl",
        "colab_type": "text"
      },
      "cell_type": "markdown",
      "source": [
        "### 3D plot of Damped Newton Method"
      ]
    },
    {
      "metadata": {
        "id": "KrFIT0JiANKb",
        "colab_type": "code",
        "outputId": "bb2ba06b-41e4-4741-b3c8-d5029a3600c3",
        "colab": {
          "base_uri": "https://localhost:8080/",
          "height": 348
        }
      },
      "cell_type": "code",
      "source": [
        "x = np.array([i[0] for i in xvalues])\n",
        "y = np.array([i[1] for i in xvalues])\n",
        "z = np.array(fvalues)\n",
        "fig = plt.figure()\n",
        "ax = fig.gca(projection='3d')\n",
        "ax.scatter(x, y, z, label='Damped Newton Method')\n",
        "ax.legend()\n"
      ],
      "execution_count": 20,
      "outputs": [
        {
          "output_type": "execute_result",
          "data": {
            "text/plain": [
              "<matplotlib.legend.Legend at 0x7fc8ccb687b8>"
            ]
          },
          "metadata": {
            "tags": []
          },
          "execution_count": 20
        },
        {
          "output_type": "display_data",
          "data": {
            "image/png": "[encoded data removed]",
            "text/plain": [
              "<Figure size 576x396 with 1 Axes>"
            ]
          },
          "metadata": {
            "tags": []
          }
        }
      ]
    },
    {
      "metadata": {
        "id": "MTYevbU-hi74",
        "colab_type": "text"
      },
      "cell_type": "markdown",
      "source": [
        "## Quasi-Newton Method (BFGS)"
      ]
    },
    {
      "metadata": {
        "id": "OJvBIudu8kUn",
        "colab_type": "text"
      },
      "cell_type": "markdown",
      "source": [
        "To view the Hessian update used, I've uploaded a screenshot of the equation here: <https://imgur.com/a/hm6ibAl>"
      ]
    },
    {
      "metadata": {
        "id": "7Oa4wwzzF9Hj",
        "colab_type": "code",
        "colab": {}
      },
      "cell_type": "code",
      "source": [
        "# Define the initial point, step size, alpha/beta constants, and initial gradient magnitude\n",
        "x0, t0, alpha, beta, count = np.array([[-1.1], [1.1]]), 1, .15, .7, 1\n",
        "magnitude = mag(dfx(x0))"
      ],
      "execution_count": 0,
      "outputs": []
    },
    {
      "metadata": {
        "id": "IflsXlJLLZC2",
        "colab_type": "code",
        "outputId": "03535326-f2a8-446e-b752-93363465ab2d",
        "colab": {
          "base_uri": "https://localhost:8080/",
          "height": 35
        }
      },
      "cell_type": "code",
      "source": [
        "# Use Cauchy's step size (exact line search algorithm) \n",
        "t = np.dot(np.transpose(dfx(x0)),dfx(x0))/np.dot(np.dot(np.transpose(dfx(x0)),hessian(x0)),dfx(x0))\n",
        "print('Final step size: ', t)"
      ],
      "execution_count": 22,
      "outputs": [
        {
          "output_type": "stream",
          "text": [
            "Final step size:  [[0.00082914]]\n"
          ],
          "name": "stdout"
        }
      ]
    },
    {
      "metadata": {
        "id": "Q-yWik0BF_j_",
        "colab_type": "code",
        "colab": {}
      },
      "cell_type": "code",
      "source": [
        "def quasi_newton_BFGS(x, t, count, magnitude):\n",
        "  \n",
        "  xvalues=[]\n",
        "  gradvalues=[]\n",
        "  fvalues=[]\n",
        "  temp = np.zeros((2,1))\n",
        "  gamma = np.zeros((2,1))\n",
        "  delta = np.zeros((2,1))\n",
        "  htemp = np.zeros((2,2))\n",
        "  hess = np.eye(2, dtype='float32')\n",
        "  \n",
        "  while magnitude > .000005:\n",
        "    \n",
        "    # Store all values for each iteration\n",
        "    xvalues.append(x)\n",
        "    gradvalues.append(dfx(x))\n",
        "    fvalues.append(f(x))   \n",
        "    \n",
        "    # Quasi-Newton BFGS algorithm    \n",
        "    deltaX = np.dot(-hess,dfx(x))\n",
        "    p = t*deltaX \n",
        "    temp = x+t*deltaX\n",
        "    q = dfx(temp)-dfx(x) \n",
        "    \n",
        "    # T1-T4 are used to break down the Hessian update equation into smaller chunks\n",
        "    T1=np.asscalar(1+np.divide(np.dot(np.dot(np.transpose(q),hess),q), np.dot(np.transpose(p),q)))\n",
        "    T2=np.divide(np.dot(p,np.transpose(p)),np.dot(np.transpose(p),q))\n",
        "    T3=np.dot(np.dot(p,np.transpose(q)), hess) + np.dot(np.dot(hess,q),np.transpose(p))\n",
        "    T4=np.asscalar(np.dot(np.transpose(q),p))\n",
        "    \n",
        "    # Form and Update the Hessian\n",
        "    htemp = hess + np.dot(T1,T2) - np.divide(T3,T4)\n",
        "    x = temp\n",
        "    hess = htemp  \n",
        "    \n",
        "    # Track the number of iterations    \n",
        "    magnitude = mag(deltaX)    \n",
        "    count+=1\n",
        "    \n",
        "  return xvalues, gradvalues, fvalues, count"
      ],
      "execution_count": 0,
      "outputs": []
    },
    {
      "metadata": {
        "id": "rTrEB_qeGFfM",
        "colab_type": "code",
        "colab": {}
      },
      "cell_type": "code",
      "source": [
        "xvalues, gradvalues, fvalues, iterations = quasi_newton_BFGS(x0, t, count, magnitude)"
      ],
      "execution_count": 0,
      "outputs": []
    },
    {
      "metadata": {
        "id": "rVFYJDZ_GKvh",
        "colab_type": "text"
      },
      "cell_type": "markdown",
      "source": [
        "### The final value of all outputs"
      ]
    },
    {
      "metadata": {
        "id": "m5pIKl9dGLKj",
        "colab_type": "code",
        "outputId": "5089d94b-f383-493c-c9ae-013533bb162e",
        "colab": {
          "base_uri": "https://localhost:8080/",
          "height": 308
        }
      },
      "cell_type": "code",
      "source": [
        "final_value = print('Final set of x values: \\n', xvalues[-1])\n",
        "final_grad = print('\\nFinal gradient values: \\n', gradvalues[-1])\n",
        "final_f = print('\\nFinal value of the object function with optimized inputs: \\n', fvalues[-1])\n",
        "final_grad_mag = print('\\nFinal magnitude of the gradient with optimized inputs: \\n', mag(dfx(xvalues[-1])))\n",
        "total_iterations = print('\\nTotal iterations: \\n', iterations)"
      ],
      "execution_count": 25,
      "outputs": [
        {
          "output_type": "stream",
          "text": [
            "Final set of x values: \n",
            " [[0.99999777]\n",
            " [0.99999553]]\n",
            "\n",
            "Final gradient values: \n",
            " [[-1.3875951e-06]\n",
            " [-1.5382029e-06]]\n",
            "\n",
            "Final value of the object function with optimized inputs: \n",
            " [4.98772596e-12]\n",
            "\n",
            "Final magnitude of the gradient with optimized inputs: \n",
            " 2.0715908392950704e-06\n",
            "\n",
            "Total iterations: \n",
            " 17759\n"
          ],
          "name": "stdout"
        }
      ]
    },
    {
      "metadata": {
        "id": "wQUXFObxGSY1",
        "colab_type": "text"
      },
      "cell_type": "markdown",
      "source": [
        "### 3D plot of Quasi-Newton Method: BFGS"
      ]
    },
    {
      "metadata": {
        "id": "PjCy-DZiGSwd",
        "colab_type": "code",
        "outputId": "cb7f409e-5194-4fe4-ba6f-41e5b27c5f39",
        "colab": {
          "base_uri": "https://localhost:8080/",
          "height": 348
        }
      },
      "cell_type": "code",
      "source": [
        "x = np.array([i[0] for i in xvalues])\n",
        "y = np.array([i[1] for i in xvalues])\n",
        "z = np.array(fvalues)\n",
        "fig = plt.figure()\n",
        "ax = fig.gca(projection='3d')\n",
        "ax.scatter(x, y, z, label='Quasi Newton Method: BFGS')\n",
        "ax.legend()"
      ],
      "execution_count": 26,
      "outputs": [
        {
          "output_type": "execute_result",
          "data": {
            "text/plain": [
              "<matplotlib.legend.Legend at 0x7fc8ccc036a0>"
            ]
          },
          "metadata": {
            "tags": []
          },
          "execution_count": 26
        },
        {
          "output_type": "display_data",
          "data": {
            "image/png": "[encoded data removed]",
            "text/plain": [
              "<Figure size 576x396 with 1 Axes>"
            ]
          },
          "metadata": {
            "tags": []
          }
        }
      ]
    },
    {
      "metadata": {
        "id": "NZgInXMCpntN",
        "colab_type": "text"
      },
      "cell_type": "markdown",
      "source": [
        "#### BFGS can also be solved easily using minimize from scipy.optimize"
      ]
    },
    {
      "metadata": {
        "id": "aKyLiM4XqMex",
        "colab_type": "text"
      },
      "cell_type": "markdown",
      "source": [
        "A list of all methods available in scipy.optimize.minimize can be found [here](https://docs.scipy.org/doc/scipy/reference/generated/scipy.optimize.minimize.html \"scipy.optimize.minimize documentation\")"
      ]
    },
    {
      "metadata": {
        "id": "SdqjbfC4Ld5S",
        "colab_type": "code",
        "outputId": "4190d2d2-9a5b-49c1-b831-fb61ae363d39",
        "colab": {
          "base_uri": "https://localhost:8080/",
          "height": 217
        }
      },
      "cell_type": "code",
      "source": [
        "solution = minimize(f,x0,method='BFGS')\n",
        "print(solution)"
      ],
      "execution_count": 27,
      "outputs": [
        {
          "output_type": "stream",
          "text": [
            "      fun: 1.9012509931293036e-11\n",
            " hess_inv: array([[0.47945977, 0.95633838],\n",
            "       [0.95633838, 1.91221642]])\n",
            "      jac: array([-4.75642811e-06,  2.49594776e-06])\n",
            "  message: 'Optimization terminated successfully.'\n",
            "     nfev: 164\n",
            "      nit: 33\n",
            "     njev: 41\n",
            "   status: 0\n",
            "  success: True\n",
            "        x: array([0.99999564, 0.99999128])\n"
          ],
          "name": "stdout"
        }
      ]
    },
    {
      "metadata": {
        "id": "6tQZ6n9O0jhT",
        "colab_type": "text"
      },
      "cell_type": "markdown",
      "source": [
        "## Quasi-Newton Method (DFP)"
      ]
    },
    {
      "metadata": {
        "id": "xfgvhtZx9IfW",
        "colab_type": "text"
      },
      "cell_type": "markdown",
      "source": [
        "To view the Hessian update used, I've uploaded a screenshot of the equation here: https://imgur.com/a/rGPmSvQ"
      ]
    },
    {
      "metadata": {
        "id": "9LQD7S4p0pEq",
        "colab_type": "code",
        "colab": {}
      },
      "cell_type": "code",
      "source": [
        "# Define the initial point, step size, alpha/beta constants, and initial gradient magnitude\n",
        "x0, t0, alpha, beta, count = np.array([[-1.1], [1.1]]), 1, .15, .7, 1\n",
        "magnitude = mag(dfx(x0))"
      ],
      "execution_count": 0,
      "outputs": []
    },
    {
      "metadata": {
        "id": "Aw_xsq-kIR7z",
        "colab_type": "code",
        "outputId": "619e0f23-34f2-4221-9dcd-f6e69a56e877",
        "colab": {
          "base_uri": "https://localhost:8080/",
          "height": 35
        }
      },
      "cell_type": "code",
      "source": [
        "# Use Cauchy's step size (exact line search algorithm) \n",
        "t = np.dot(np.transpose(dfx(x0)),dfx(x0))/np.dot(np.dot(np.transpose(dfx(x0)),hessian(x0)),dfx(x0))\n",
        "print('Final step size: ', t)"
      ],
      "execution_count": 29,
      "outputs": [
        {
          "output_type": "stream",
          "text": [
            "Final step size:  [[0.00082914]]\n"
          ],
          "name": "stdout"
        }
      ]
    },
    {
      "metadata": {
        "id": "x7Q5w08F0s02",
        "colab_type": "code",
        "colab": {}
      },
      "cell_type": "code",
      "source": [
        "def quasi_newton_DFP(x, t, count, magnitude):\n",
        "  \n",
        "  xvalues=[]\n",
        "  gradvalues=[]\n",
        "  fvalues=[]\n",
        "  temp = np.zeros((2,1))\n",
        "  gamma = np.zeros((2,1))\n",
        "  delta = np.zeros((2,1))\n",
        "  htemp = np.zeros((2,2))\n",
        "  hess = np.eye(2, dtype='float32')\n",
        "  \n",
        "  while magnitude > .000005:\n",
        "    \n",
        "    # Store all values for each iteration\n",
        "    xvalues.append(x)\n",
        "    gradvalues.append(dfx(x))\n",
        "    fvalues.append(f(x))   \n",
        "    \n",
        "    # Quasi-Newton DFP algorithm    \n",
        "    deltaX = np.dot(-hess,dfx(x))\n",
        "    p = t*deltaX \n",
        "    temp = x+t*deltaX\n",
        "    q = dfx(temp)-dfx(x) \n",
        "    \n",
        "    # T1-T3 are used to break down the Hessian update equation into smaller chunks\n",
        "    T1=np.divide(np.dot(p,np.transpose(p)),np.dot(np.transpose(p),q))\n",
        "    T2=np.dot(hess,np.dot(q,np.dot(np.transpose(q),hess)))\n",
        "    T3=np.asscalar(np.dot(np.dot(np.transpose(q),hess),q))\n",
        "   \n",
        "    htemp = hess + T1-np.divide(T2,T3)\n",
        "    x = temp\n",
        "    hess = htemp   \n",
        "    magnitude = mag(deltaX)   \n",
        "    \n",
        "    # Track the number of iterations\n",
        "    count+=1\n",
        "    \n",
        "  return xvalues, gradvalues, fvalues, count"
      ],
      "execution_count": 0,
      "outputs": []
    },
    {
      "metadata": {
        "id": "0q5_mBAH0xlR",
        "colab_type": "code",
        "colab": {}
      },
      "cell_type": "code",
      "source": [
        "xvalues, gradvalues, fvalues, iterations = quasi_newton_DFP(x0, t, count, magnitude)"
      ],
      "execution_count": 0,
      "outputs": []
    },
    {
      "metadata": {
        "id": "NJvJ57ph1Rmp",
        "colab_type": "text"
      },
      "cell_type": "markdown",
      "source": [
        "### The final value of all outputs"
      ]
    },
    {
      "metadata": {
        "id": "z42jCEnP043D",
        "colab_type": "code",
        "outputId": "4bf22af8-710b-4212-8577-15aaef19c1f8",
        "colab": {
          "base_uri": "https://localhost:8080/",
          "height": 308
        }
      },
      "cell_type": "code",
      "source": [
        "final_value = print('Final set of x values: \\n', xvalues[-1])\n",
        "final_grad = print('\\nFinal gradient values: \\n', gradvalues[-1])\n",
        "final_f = print('\\nFinal value of the object function with optimized inputs: \\n', fvalues[-1])\n",
        "final_grad_mag = print('\\nFinal magnitude of the gradient with optimized inputs: \\n', mag(dfx(xvalues[-1])))\n",
        "total_iterations = print('\\nTotal iterations: \\n', iterations)"
      ],
      "execution_count": 32,
      "outputs": [
        {
          "output_type": "stream",
          "text": [
            "Final set of x values: \n",
            " [[0.99999777]\n",
            " [0.99999553]]\n",
            "\n",
            "Final gradient values: \n",
            " [[ 5.070640e-06]\n",
            " [-4.760404e-06]]\n",
            "\n",
            "Final value of the object function with optimized inputs: \n",
            " [5.00760541e-12]\n",
            "\n",
            "Final magnitude of the gradient with optimized inputs: \n",
            " 6.955058124599126e-06\n",
            "\n",
            "Total iterations: \n",
            " 23151\n"
          ],
          "name": "stdout"
        }
      ]
    },
    {
      "metadata": {
        "id": "iyFNp3Op02Uy",
        "colab_type": "text"
      },
      "cell_type": "markdown",
      "source": [
        "### 3D plot of Quasi-Newton Method: DFP\n"
      ]
    },
    {
      "metadata": {
        "id": "SByQo8Wz1HNb",
        "colab_type": "code",
        "outputId": "97bad5f0-4bbd-4fea-ad04-f1abbbc538e7",
        "colab": {
          "base_uri": "https://localhost:8080/",
          "height": 348
        }
      },
      "cell_type": "code",
      "source": [
        "x = np.array([i[0] for i in xvalues])\n",
        "y = np.array([i[1] for i in xvalues])\n",
        "z = np.array(fvalues)\n",
        "fig = plt.figure()\n",
        "ax = fig.gca(projection='3d')\n",
        "ax.scatter(x, y, z, label='Quasi Newton Method: DFP')\n",
        "ax.legend()"
      ],
      "execution_count": 33,
      "outputs": [
        {
          "output_type": "execute_result",
          "data": {
            "text/plain": [
              "<matplotlib.legend.Legend at 0x7fc8c8acc630>"
            ]
          },
          "metadata": {
            "tags": []
          },
          "execution_count": 33
        },
        {
          "output_type": "display_data",
          "data": {
            "image/png": "[encoded data removed]",
            "text/plain": [
              "<Figure size 576x396 with 1 Axes>"
            ]
          },
          "metadata": {
            "tags": []
          }
        }
      ]
    }
  ]
}